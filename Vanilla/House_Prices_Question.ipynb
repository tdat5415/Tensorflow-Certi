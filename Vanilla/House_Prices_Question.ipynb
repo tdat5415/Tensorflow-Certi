{
 "cells": [
  {
   "cell_type": "markdown",
   "metadata": {
    "colab_type": "text",
    "id": "mw2VBrBcgvGa"
   },
   "source": [
    "In this exercise you'll try to build a neural network that predicts the price of a house according to a simple formula.\n",
    "\n",
    "So, imagine if house pricing was as easy as a house costs 50k + 50k per bedroom, so that a 1 bedroom house costs 100k, a 2 bedroom house costs 150k etc.\n",
    "\n",
    "How would you create a neural network that learns this relationship so that it would predict a 7 bedroom house as costing close to 400k etc.\n",
    "\n",
    "Hint: Your network might work better if you scale the house price down. You don't have to give the answer 400...it might be better to create something that predicts the number 4, and then your answer is in the 'hundreds of thousands' etc."
   ]
  },
  {
   "cell_type": "code",
   "execution_count": 6,
   "metadata": {},
   "outputs": [],
   "source": [
    "import tensorflow as tf\n",
    "import numpy as np\n",
    "from tensorflow import keras"
   ]
  },
  {
   "cell_type": "code",
   "execution_count": 46,
   "metadata": {
    "colab": {},
    "colab_type": "code",
    "id": "PUNO2E6SeURH"
   },
   "outputs": [],
   "source": [
    "# GRADED FUNCTION: house_model\n",
    "def house_model(y_new):\n",
    "    xs = [1.0, 2.0, 3.0, 4.0, 5.0, 6.0, 7.0]\n",
    "    ys = [1.0, 1.5, 2.0 ,2.5, 3.0, 3.5, 4.0]\n",
    "    model = keras.Sequential([keras.layers.Dense(units=1, input_shape=[1])])\n",
    "    model.compile(optimizer='sgd', loss='mse')\n",
    "    model.fit(xs, ys, epochs=30)\n",
    "    return model.predict(y_new)[0]"
   ]
  },
  {
   "cell_type": "code",
   "execution_count": 47,
   "metadata": {},
   "outputs": [
    {
     "name": "stdout",
     "output_type": "stream",
     "text": [
      "Epoch 1/30\n",
      "7/7 [==============================] - 0s 69ms/sample - loss: 79.5215\n",
      "Epoch 2/30\n",
      "7/7 [==============================] - 0s 262us/sample - loss: 27.1085\n",
      "Epoch 3/30\n",
      "7/7 [==============================] - 0s 198us/sample - loss: 9.2423\n",
      "Epoch 4/30\n",
      "7/7 [==============================] - 0s 178us/sample - loss: 3.1521\n",
      "Epoch 5/30\n",
      "7/7 [==============================] - 0s 211us/sample - loss: 1.0761\n",
      "Epoch 6/30\n",
      "7/7 [==============================] - 0s 179us/sample - loss: 0.3684\n",
      "Epoch 7/30\n",
      "7/7 [==============================] - 0s 155us/sample - loss: 0.1272\n",
      "Epoch 8/30\n",
      "7/7 [==============================] - 0s 9ms/sample - loss: 0.0449\n",
      "Epoch 9/30\n",
      "7/7 [==============================] - 0s 197us/sample - loss: 0.0169\n",
      "Epoch 10/30\n",
      "7/7 [==============================] - 0s 179us/sample - loss: 0.0073\n",
      "Epoch 11/30\n",
      "7/7 [==============================] - 0s 214us/sample - loss: 0.0041\n",
      "Epoch 12/30\n",
      "7/7 [==============================] - 0s 208us/sample - loss: 0.0029\n",
      "Epoch 13/30\n",
      "7/7 [==============================] - 0s 209us/sample - loss: 0.0025\n",
      "Epoch 14/30\n",
      "7/7 [==============================] - 0s 180us/sample - loss: 0.0024\n",
      "Epoch 15/30\n",
      "7/7 [==============================] - 0s 201us/sample - loss: 0.0023\n",
      "Epoch 16/30\n",
      "7/7 [==============================] - 0s 170us/sample - loss: 0.0023\n",
      "Epoch 17/30\n",
      "7/7 [==============================] - 0s 172us/sample - loss: 0.0023\n",
      "Epoch 18/30\n",
      "7/7 [==============================] - 0s 189us/sample - loss: 0.0022\n",
      "Epoch 19/30\n",
      "7/7 [==============================] - 0s 197us/sample - loss: 0.0022\n",
      "Epoch 20/30\n",
      "7/7 [==============================] - 0s 11ms/sample - loss: 0.0022\n",
      "Epoch 21/30\n",
      "7/7 [==============================] - 0s 192us/sample - loss: 0.0022\n",
      "Epoch 22/30\n",
      "7/7 [==============================] - 0s 191us/sample - loss: 0.0022\n",
      "Epoch 23/30\n",
      "7/7 [==============================] - 0s 222us/sample - loss: 0.0022\n",
      "Epoch 24/30\n",
      "7/7 [==============================] - 0s 189us/sample - loss: 0.0021\n",
      "Epoch 25/30\n",
      "7/7 [==============================] - 0s 184us/sample - loss: 0.0021\n",
      "Epoch 26/30\n",
      "7/7 [==============================] - 0s 168us/sample - loss: 0.0021\n",
      "Epoch 27/30\n",
      "7/7 [==============================] - 0s 221us/sample - loss: 0.0021\n",
      "Epoch 28/30\n",
      "7/7 [==============================] - 0s 169us/sample - loss: 0.0021\n",
      "Epoch 29/30\n",
      "7/7 [==============================] - 0s 167us/sample - loss: 0.0021\n",
      "Epoch 30/30\n",
      "7/7 [==============================] - 0s 154us/sample - loss: 0.0020\n",
      "[4.041648]\n"
     ]
    }
   ],
   "source": [
    "prediction = house_model([7.0])\n",
    "print(prediction)"
   ]
  },
  {
   "cell_type": "code",
   "execution_count": 4,
   "metadata": {},
   "outputs": [],
   "source": [
    "# Now click the 'Submit Assignment' button above.\n",
    "# Once that is complete, please run the following two cells to save your work and close the notebook"
   ]
  },
  {
   "cell_type": "code",
   "execution_count": 8,
   "metadata": {},
   "outputs": [
    {
     "data": {
      "application/javascript": [
       "<!-- Save the notebook -->\n",
       "IPython.notebook.save_checkpoint();\n"
      ],
      "text/plain": [
       "<IPython.core.display.Javascript object>"
      ]
     },
     "metadata": {},
     "output_type": "display_data"
    }
   ],
   "source": [
    "%%javascript\n",
    "<!-- Save the notebook -->\n",
    "IPython.notebook.save_checkpoint();"
   ]
  },
  {
   "cell_type": "code",
   "execution_count": null,
   "metadata": {},
   "outputs": [
    {
     "data": {
      "application/javascript": [
       "IPython.notebook.session.delete();\n",
       "window.onbeforeunload = null\n",
       "setTimeout(function() { window.close(); }, 1000);\n"
      ],
      "text/plain": [
       "<IPython.core.display.Javascript object>"
      ]
     },
     "metadata": {},
     "output_type": "display_data"
    }
   ],
   "source": [
    "%%javascript\n",
    "IPython.notebook.session.delete();\n",
    "window.onbeforeunload = null\n",
    "setTimeout(function() { window.close(); }, 1000);"
   ]
  }
 ],
 "metadata": {
  "coursera": {
   "course_slug": "introduction-tensorflow",
   "graded_item_id": "jRjw8",
   "launcher_item_id": "YoQKl"
  },
  "kernelspec": {
   "display_name": "Python 3",
   "language": "python",
   "name": "python3"
  },
  "language_info": {
   "codemirror_mode": {
    "name": "ipython",
    "version": 3
   },
   "file_extension": ".py",
   "mimetype": "text/x-python",
   "name": "python",
   "nbconvert_exporter": "python",
   "pygments_lexer": "ipython3",
   "version": "3.6.8"
  }
 },
 "nbformat": 4,
 "nbformat_minor": 2
}
